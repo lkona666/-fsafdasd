{
  "nbformat": 4,
  "nbformat_minor": 0,
  "metadata": {
    "colab": {
      "provenance": [],
      "authorship_tag": "ABX9TyNKHPSpynNKskSzRsadee+b",
      "include_colab_link": true
    },
    "kernelspec": {
      "name": "python3",
      "display_name": "Python 3"
    },
    "language_info": {
      "name": "python"
    }
  },
  "cells": [
    {
      "cell_type": "markdown",
      "metadata": {
        "id": "view-in-github",
        "colab_type": "text"
      },
      "source": [
        "<a href=\"https://colab.research.google.com/github/lkona666/-fsafdasd/blob/main/%D0%9D%D0%B5%D0%B4%D0%B5%D0%BB%D1%8F_9_%D0%9C%D0%B5%D0%B4%D0%B2%D0%B5%D0%B4%D0%B5%D0%B2_%D0%94%D0%B0%D0%BD%D0%B8%D0%B8%D0%BB_%D0%9F%D1%80%D0%B0%D0%BA%D1%82%D0%B8%D0%BA%D0%B0_%D0%91%D0%98%D0%9A24_%D0%98%D0%921.ipynb\" target=\"_parent\"><img src=\"https://colab.research.google.com/assets/colab-badge.svg\" alt=\"Open In Colab\"/></a>"
      ]
    },
    {
      "cell_type": "markdown",
      "source": [
        "1 Задача"
      ],
      "metadata": {
        "id": "CUG9qAtoZMNT"
      }
    },
    {
      "cell_type": "code",
      "execution_count": 16,
      "metadata": {
        "colab": {
          "base_uri": "https://localhost:8080/"
        },
        "id": "aNJys5xnIrpe",
        "outputId": "722cc7c5-bdc3-45a7-e284-ece6572547f1"
      },
      "outputs": [
        {
          "output_type": "stream",
          "name": "stdout",
          "text": [
            "Введите число:22\n",
            "Введите число:0\n",
            "Словарь и колво входов: {22.0: 1}\n",
            "Список уникальных значений: [22.0]\n"
          ]
        }
      ],
      "source": [
        "def main():\n",
        "    counts={}\n",
        "    while True:\n",
        "        num=input('Введите число:')\n",
        "        if num.upper()=='0':\n",
        "           break\n",
        "        try:\n",
        "            number=float(num)\n",
        "            if number in counts:\n",
        "              counts[number]+=1\n",
        "            else:\n",
        "              counts[number] = 1\n",
        "        except ValueError:\n",
        "          print('Введите правильное число')\n",
        "    unique_values=list(counts.keys())\n",
        "    print('Словарь и колво входов:',counts)\n",
        "    print('Список уникальных значений:',unique_values)\n",
        "if __name__ == '__main__':\n",
        "   main()"
      ]
    },
    {
      "cell_type": "markdown",
      "source": [
        "2 Задача"
      ],
      "metadata": {
        "id": "AbOi4i0HZU6S"
      }
    },
    {
      "cell_type": "code",
      "source": [
        "def main():\n",
        "    phone_book = {}  # Словарь для хранения записей телефонной книги\n",
        "\n",
        "    while True:\n",
        "        command = input(\"Введите команду (add/who/exit): \")\n",
        "\n",
        "        if command == 'add':\n",
        "            add_contact(phone_book)\n",
        "        elif command == 'who':\n",
        "            find_contact(phone_book)\n",
        "        elif command == 'exit':\n",
        "            print(\"Завершение работы.\")\n",
        "            break\n",
        "        else:\n",
        "            print(\"Неизвестная команда. Попробуйте снова.\")\n",
        "\n",
        "def add_contact(phone_book):\n",
        "    name = input(\"Введите имя: \")\n",
        "    number = input(\"Введите номер телефона: \")\n",
        "\n",
        "    phone_book[name] = number\n",
        "    print(f\"Контакт '{name}' добавлен с номером '{number}'.\")\n",
        "\n",
        "def find_contact(phone_book):\n",
        "    name = input(\"Введите имя для поиска: \")\n",
        "\n",
        "    if name in phone_book:\n",
        "        print(f\"Номер телефона для '{name}': {phone_book[name]}.\")\n",
        "    else:\n",
        "        print(f\"Контакт с именем '{name}' не найден.\")\n",
        "\n",
        "if __name__ == \"__main__\":\n",
        "    main()"
      ],
      "metadata": {
        "colab": {
          "base_uri": "https://localhost:8080/"
        },
        "id": "T0vgpTvfZV8c",
        "outputId": "8982a2a1-f67d-488e-8a2d-fa890cccd3f9"
      },
      "execution_count": 17,
      "outputs": [
        {
          "output_type": "stream",
          "name": "stdout",
          "text": [
            "Введите команду (add/who/exit): add\n",
            "Введите имя: Danil\n",
            "Введите номер телефона: 4232132\n",
            "Контакт 'Danil' добавлен с номером '4232132'.\n",
            "Введите команду (add/who/exit): who\n",
            "Введите имя для поиска: Danil\n",
            "Номер телефона для 'Danil': 4232132.\n",
            "Введите команду (add/who/exit): exit\n",
            "Завершение работы.\n"
          ]
        }
      ]
    }
  ]
}