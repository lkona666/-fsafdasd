{
  "nbformat": 4,
  "nbformat_minor": 0,
  "metadata": {
    "colab": {
      "provenance": [],
      "authorship_tag": "ABX9TyNVBnVeubPtJVVeiqYPvqM1",
      "include_colab_link": true
    },
    "kernelspec": {
      "name": "python3",
      "display_name": "Python 3"
    },
    "language_info": {
      "name": "python"
    }
  },
  "cells": [
    {
      "cell_type": "markdown",
      "metadata": {
        "id": "view-in-github",
        "colab_type": "text"
      },
      "source": [
        "<a href=\"https://colab.research.google.com/github/lkona666/-fsafdasd/blob/main/%D0%9C%D0%B5%D0%B4%D0%B2%D0%B5%D0%B4%D0%B5%D0%B2%D0%91%D0%98%D0%9A_24%D0%98%D0%921%D0%9B%D0%B0%D0%B1%D0%BE%D1%80%D0%B0%D1%82%D0%BE%D1%80%D0%BD%D0%B0%D1%8F%D1%80%D0%B0%D0%B1%D0%BE%D1%82%D0%B03.ipynb\" target=\"_parent\"><img src=\"https://colab.research.google.com/assets/colab-badge.svg\" alt=\"Open In Colab\"/></a>"
      ]
    },
    {
      "cell_type": "markdown",
      "source": [
        "Задание 1"
      ],
      "metadata": {
        "id": "imhYsvz0PJzZ"
      }
    },
    {
      "cell_type": "code",
      "execution_count": 14,
      "metadata": {
        "colab": {
          "base_uri": "https://localhost:8080/"
        },
        "id": "TFFH9PzPGkOB",
        "outputId": "cdd75686-ce09-4f08-e788-6f15e0dbc6a3"
      },
      "outputs": [
        {
          "output_type": "stream",
          "name": "stdout",
          "text": [
            "fds,dsad,asdas,asdas\n",
            "3 4 5 5\n"
          ]
        }
      ],
      "source": [
        "alphabet=input()\n",
        "res=alphabet.split(',')\n",
        "print((len(res[0])),len(res[1]),len(res[2]),len(res[3]))"
      ]
    },
    {
      "cell_type": "markdown",
      "source": [
        "Задание 2"
      ],
      "metadata": {
        "id": "T6hBAETdPN1s"
      }
    },
    {
      "cell_type": "code",
      "source": [],
      "metadata": {
        "id": "WGFhYvjZPPWE"
      },
      "execution_count": null,
      "outputs": []
    }
  ]
}