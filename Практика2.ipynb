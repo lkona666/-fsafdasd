{
  "nbformat": 4,
  "nbformat_minor": 0,
  "metadata": {
    "colab": {
      "provenance": [],
      "authorship_tag": "ABX9TyPuG2+wlG/vOvNc6Wj76Rxt",
      "include_colab_link": true
    },
    "kernelspec": {
      "name": "python3",
      "display_name": "Python 3"
    },
    "language_info": {
      "name": "python"
    }
  },
  "cells": [
    {
      "cell_type": "markdown",
      "metadata": {
        "id": "view-in-github",
        "colab_type": "text"
      },
      "source": [
        "<a href=\"https://colab.research.google.com/github/lkona666/-fsafdasd/blob/main/%D0%9F%D1%80%D0%B0%D0%BA%D1%82%D0%B8%D0%BA%D0%B02.ipynb\" target=\"_parent\"><img src=\"https://colab.research.google.com/assets/colab-badge.svg\" alt=\"Open In Colab\"/></a>"
      ]
    },
    {
      "cell_type": "code",
      "execution_count": 54,
      "metadata": {
        "colab": {
          "base_uri": "https://localhost:8080/"
        },
        "id": "fa2I3MqpAY6t",
        "outputId": "d555d98f-a4c9-4748-b33d-7956136ad5ff"
      },
      "outputs": [
        {
          "output_type": "stream",
          "name": "stdout",
          "text": [
            "456\n",
            "4 5 6\n",
            "4\n",
            "5\n",
            "6\n",
            "0:0:59\n"
          ]
        }
      ],
      "source": [
        "a=456\n",
        "b=a//100\n",
        "c=(a//10)%10\n",
        "d=a%10\n",
        "print(a)\n",
        "print(b, c, d)\n",
        "print(b)\n",
        "print(c)\n",
        "print(d)\n",
        "\n",
        "n=15000\n",
        "ss=n\n",
        "if ss>60:\n",
        "\n",
        "mm=ss//60\n",
        "hh=round(mm/60)\n",
        "a=f'{hh}:{mm}:{ss}'\n",
        "print(a)"
      ]
    }
  ]
}