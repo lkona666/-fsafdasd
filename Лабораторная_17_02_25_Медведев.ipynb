{
  "nbformat": 4,
  "nbformat_minor": 0,
  "metadata": {
    "colab": {
      "provenance": [],
      "authorship_tag": "ABX9TyNv64GE4jUEaPv7YYsrMQlH",
      "include_colab_link": true
    },
    "kernelspec": {
      "name": "python3",
      "display_name": "Python 3"
    },
    "language_info": {
      "name": "python"
    }
  },
  "cells": [
    {
      "cell_type": "markdown",
      "metadata": {
        "id": "view-in-github",
        "colab_type": "text"
      },
      "source": [
        "<a href=\"https://colab.research.google.com/github/lkona666/-fsafdasd/blob/main/%D0%9B%D0%B0%D0%B1%D0%BE%D1%80%D0%B0%D1%82%D0%BE%D1%80%D0%BD%D0%B0%D1%8F_17_02_25_%D0%9C%D0%B5%D0%B4%D0%B2%D0%B5%D0%B4%D0%B5%D0%B2.ipynb\" target=\"_parent\"><img src=\"https://colab.research.google.com/assets/colab-badge.svg\" alt=\"Open In Colab\"/></a>"
      ]
    },
    {
      "cell_type": "markdown",
      "source": [
        "Задание 1"
      ],
      "metadata": {
        "id": "o39G1OqB_hnl"
      }
    },
    {
      "cell_type": "code",
      "execution_count": 1,
      "metadata": {
        "colab": {
          "base_uri": "https://localhost:8080/"
        },
        "id": "uZ7Rqu8Y9JRH",
        "outputId": "ff3990fc-e9d2-4259-ec36-c8e16e5fa05d"
      },
      "outputs": [
        {
          "output_type": "stream",
          "name": "stdout",
          "text": [
            "Введите имя: Даниил\n",
            "Введите возраст: 18\n",
            "Введите рост: 162\n",
            "Привет Даниил, тебе 18 лет, и твой рост 162 см\n"
          ]
        }
      ],
      "source": [
        "name=input(\"Введите имя: \")\n",
        "age=input(\"Введите возраст: \")\n",
        "height=input(\"Введите рост: \")\n",
        "print(f'Привет {name}, тебе {age} лет, и твой рост {height} см')"
      ]
    },
    {
      "cell_type": "markdown",
      "source": [
        "Задание 2"
      ],
      "metadata": {
        "id": "Tx2wyaDo_gls"
      }
    },
    {
      "cell_type": "code",
      "source": [
        "c=int(input(\"Введите целое число: \"))\n",
        "if c%2==0:\n",
        "  print(\"Число чётное\")\n",
        "else:\n",
        "  print(\"Число нечётное\")"
      ],
      "metadata": {
        "colab": {
          "base_uri": "https://localhost:8080/"
        },
        "id": "omQPHS_e_lLL",
        "outputId": "58181bf4-8309-439e-f7be-04e18f04947e"
      },
      "execution_count": 4,
      "outputs": [
        {
          "output_type": "stream",
          "name": "stdout",
          "text": [
            "Введите число: 11\n",
            "Число нечётное\n"
          ]
        }
      ]
    },
    {
      "cell_type": "markdown",
      "source": [
        "Задание 3"
      ],
      "metadata": {
        "id": "gFYeSCm1ADTa"
      }
    },
    {
      "cell_type": "code",
      "source": [
        "am=[]\n",
        "for i in range(5):\n",
        "    a=int((input(\"Введите число: \")))\n",
        "    am.append(a)\n",
        "print(sum(am),min(am),max(am))"
      ],
      "metadata": {
        "colab": {
          "base_uri": "https://localhost:8080/"
        },
        "id": "4R9Ks-5eAEcb",
        "outputId": "a19dce9e-7b6c-4442-d7ee-65d87b4040ed"
      },
      "execution_count": 18,
      "outputs": [
        {
          "output_type": "stream",
          "name": "stdout",
          "text": [
            "Введите число: 10\n",
            "Введите число: 20\n",
            "Введите число: 30\n",
            "Введите число: 20\n",
            "Введите число: 40\n",
            "120 10 40\n"
          ]
        }
      ]
    },
    {
      "cell_type": "markdown",
      "source": [
        "Задание 4"
      ],
      "metadata": {
        "id": "zh9f-hDVD85m"
      }
    },
    {
      "cell_type": "code",
      "source": [
        "def sum_of_events(numbers):\n",
        "  return sum(num for num in numbers if num%2==0)\n",
        "chisla=input(\"Введите числа через пробел: \")\n",
        "numbers=list(map(int,chisla.split()))\n",
        "print(sum_of_events(numbers))"
      ],
      "metadata": {
        "colab": {
          "base_uri": "https://localhost:8080/"
        },
        "id": "shUYvuXjD-nV",
        "outputId": "cad22b9d-cc5f-4e32-f50b-4765cf2c7606"
      },
      "execution_count": 26,
      "outputs": [
        {
          "output_type": "stream",
          "name": "stdout",
          "text": [
            "Введите числа через пробел: 5 12 11 1 40 50\n",
            "102\n"
          ]
        }
      ]
    },
    {
      "cell_type": "markdown",
      "source": [
        "Задание 5"
      ],
      "metadata": {
        "id": "NG_zlrldI66F"
      }
    },
    {
      "cell_type": "code",
      "source": [
        "def generate_squares():\n",
        "  n= int(input(\"Введите положительное целое число: \"))\n",
        "  squares=[i**2 for i in range(1,n+1)]\n",
        "  print(squares)\n",
        "generate_squares()"
      ],
      "metadata": {
        "colab": {
          "base_uri": "https://localhost:8080/"
        },
        "id": "IhKgdL8tI_uG",
        "outputId": "c1d9897a-1e0d-4b2c-8ff7-4f18059e8f99"
      },
      "execution_count": 30,
      "outputs": [
        {
          "output_type": "stream",
          "name": "stdout",
          "text": [
            "Введите положительное целое число: 6\n",
            "[1, 4, 9, 16, 25, 36]\n"
          ]
        }
      ]
    },
    {
      "cell_type": "markdown",
      "source": [
        "Задание 6"
      ],
      "metadata": {
        "id": "jZ2zSG5LKzrt"
      }
    },
    {
      "cell_type": "code",
      "source": [
        "def filter_noise(signal,threshold):\n",
        "  signal_str=input(\"Введите сигнал\")\n",
        "signal=list(map(int,signal_str.split()))\n",
        "filtered_signal=[x for x in signal if abs(x)>=threshold]\n",
        "print(\"Отфильтрованый сигнал: \", filtered_signal)\n",
        "filter_noise"
      ],
      "metadata": {
        "colab": {
          "base_uri": "https://localhost:8080/"
        },
        "id": "mYac0Ai4K1UW",
        "outputId": "24fcad45-9bdf-497b-fd62-05b338502058"
      },
      "execution_count": 31,
      "outputs": [
        {
          "output_type": "stream",
          "name": "stdout",
          "text": [
            "[-6, 8, -10, 12, -15]\n"
          ]
        }
      ]
    }
  ]
}