{
  "nbformat": 4,
  "nbformat_minor": 0,
  "metadata": {
    "colab": {
      "provenance": [],
      "authorship_tag": "ABX9TyMyBFUUKIIkuWxpwFNpisR6",
      "include_colab_link": true
    },
    "kernelspec": {
      "name": "python3",
      "display_name": "Python 3"
    },
    "language_info": {
      "name": "python"
    }
  },
  "cells": [
    {
      "cell_type": "markdown",
      "metadata": {
        "id": "view-in-github",
        "colab_type": "text"
      },
      "source": [
        "<a href=\"https://colab.research.google.com/github/lkona666/-fsafdasd/blob/main/%D0%9B%D0%B0%D0%B1%D0%BE%D1%80%D0%B0%D1%82%D0%BE%D1%80%D0%BD%D0%B0%D1%8F1_10_02_25_%D0%9C%D0%B5%D0%B4%D0%B2%D0%B5%D0%B4%D0%B5%D0%B2.ipynb\" target=\"_parent\"><img src=\"https://colab.research.google.com/assets/colab-badge.svg\" alt=\"Open In Colab\"/></a>"
      ]
    },
    {
      "cell_type": "markdown",
      "source": [
        "Задание 1"
      ],
      "metadata": {
        "id": "HIYignWf9IjG"
      }
    },
    {
      "cell_type": "code",
      "source": [
        "num = 23\n",
        "fl_num=23.23\n",
        "string=\"aboba\"\n",
        "tr=True"
      ],
      "metadata": {
        "id": "pLGxSJev8stf"
      },
      "execution_count": null,
      "outputs": []
    },
    {
      "cell_type": "markdown",
      "source": [
        "Задание 2"
      ],
      "metadata": {
        "id": "l2-cUhtQ9LJq"
      }
    },
    {
      "cell_type": "code",
      "execution_count": 1,
      "metadata": {
        "colab": {
          "base_uri": "https://localhost:8080/"
        },
        "id": "h8spLuuC8qFV",
        "outputId": "fca12fef-cd79-41b7-8149-8c79788780d4"
      },
      "outputs": [
        {
          "output_type": "stream",
          "name": "stdout",
          "text": [
            "188 String\n"
          ]
        }
      ],
      "source": [
        "age=188\n",
        "name=\"Dani\"\n",
        "print(age,name)"
      ]
    },
    {
      "cell_type": "markdown",
      "source": [
        "Задание 3"
      ],
      "metadata": {
        "id": "0MyMrqcq9M-L"
      }
    },
    {
      "cell_type": "code",
      "source": [
        "a=342\n",
        "b=56.2\n",
        "c='43'\n",
        "d=a+b+int(c)\n",
        "print(d)"
      ],
      "metadata": {
        "colab": {
          "base_uri": "https://localhost:8080/"
        },
        "id": "bTLgs65H9OKV",
        "outputId": "7a596ca8-11b1-4800-8159-2be6216a6e13"
      },
      "execution_count": 7,
      "outputs": [
        {
          "output_type": "stream",
          "name": "stdout",
          "text": [
            "441.2\n"
          ]
        }
      ]
    },
    {
      "cell_type": "markdown",
      "source": [
        "Задание 4"
      ],
      "metadata": {
        "id": "yiWYmSeo9OoK"
      }
    },
    {
      "cell_type": "code",
      "source": [
        "a=3\n",
        "b=8\n",
        "x=(a+4*b)*(a-3*b)+a*a\n",
        "print(x)"
      ],
      "metadata": {
        "colab": {
          "base_uri": "https://localhost:8080/"
        },
        "id": "-y9xkopv9Pri",
        "outputId": "b439268d-0910-4f9b-f722-3d523a030a46"
      },
      "execution_count": 8,
      "outputs": [
        {
          "output_type": "stream",
          "name": "stdout",
          "text": [
            "-726\n"
          ]
        }
      ]
    },
    {
      "cell_type": "markdown",
      "source": [
        "Задание 5"
      ],
      "metadata": {
        "id": "QPI78qJIDAjX"
      }
    },
    {
      "cell_type": "code",
      "source": [
        "a=int(input(\"Первая сторона прямоугольника: \"))\n",
        "b=int(input(\"Вторая сторона прямоугольника: \"))\n",
        "P=(a+b)*2\n",
        "S=a*b\n",
        "print(\"Периметр равен:\",P, \"Площадь равна:\",S)"
      ],
      "metadata": {
        "colab": {
          "base_uri": "https://localhost:8080/"
        },
        "id": "YjFv-vlWDCFx",
        "outputId": "26f97df5-d150-4d11-ce1c-a6e23b648f0c"
      },
      "execution_count": 11,
      "outputs": [
        {
          "output_type": "stream",
          "name": "stdout",
          "text": [
            "Первая сторона прямоугольника: 10\n",
            "Вторая сторона прямоугольника: 5\n",
            "Площадь равна:  30 Периметр равен:  50\n"
          ]
        }
      ]
    },
    {
      "cell_type": "markdown",
      "source": [
        "Задание 6"
      ],
      "metadata": {
        "id": "29hb8ljzEkRQ"
      }
    },
    {
      "cell_type": "code",
      "source": [
        "w=[\"*    *    *\",\n",
        "   \" *  *  * *\",\n",
        "   \"  * *\"]"
      ],
      "metadata": {
        "id": "Gjn7qD3EE_R9"
      },
      "execution_count": 20,
      "outputs": []
    },
    {
      "cell_type": "markdown",
      "source": [
        "Задание 7"
      ],
      "metadata": {
        "id": "f7yx6TKXGJfg"
      }
    },
    {
      "cell_type": "code",
      "source": [
        "a=10\n",
        "b=20\n",
        "print(\"Арифметичские операторы: \",a+b,a*b,a%b,a//b,a-b,a**b,a/b)\n",
        "print(\"Операторы сравнения: \",a==b,a!=b,a>b,a<b,a>=b,a<=b)"
      ],
      "metadata": {
        "colab": {
          "base_uri": "https://localhost:8080/"
        },
        "id": "Sj7PoFkqGLmF",
        "outputId": "4705147c-9a6c-4d12-889e-708cbff507ed"
      },
      "execution_count": 15,
      "outputs": [
        {
          "output_type": "stream",
          "name": "stdout",
          "text": [
            "Арифметичские операторы:  30 200 10 0 -10 100000000000000000000 0.5\n",
            "Операторы сравнения:  False True False True False True\n"
          ]
        }
      ]
    },
    {
      "cell_type": "markdown",
      "source": [
        "Задание 8"
      ],
      "metadata": {
        "id": "KBnqm9pHHa4l"
      }
    },
    {
      "cell_type": "code",
      "source": [
        "age=18\n",
        "name=\"Daniil\"\n",
        "print(f'Привет, меня зовут {name}, мне {age} лет')"
      ],
      "metadata": {
        "colab": {
          "base_uri": "https://localhost:8080/"
        },
        "id": "uFcBzT3yHcH8",
        "outputId": "50a430de-8960-4eac-ecd8-e4ed7dc27cf0"
      },
      "execution_count": 18,
      "outputs": [
        {
          "output_type": "stream",
          "name": "stdout",
          "text": [
            "Привет, меня зовут Daniil, мне 18 лет\n"
          ]
        }
      ]
    },
    {
      "cell_type": "markdown",
      "source": [
        "Задание 9"
      ],
      "metadata": {
        "id": "kiDyzqbQH-bf"
      }
    },
    {
      "cell_type": "code",
      "source": [],
      "metadata": {
        "id": "87ZPg-p6IABP"
      },
      "execution_count": null,
      "outputs": []
    }
  ]
}