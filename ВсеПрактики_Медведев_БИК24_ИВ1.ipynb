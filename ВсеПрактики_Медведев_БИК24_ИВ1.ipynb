{
  "nbformat": 4,
  "nbformat_minor": 0,
  "metadata": {
    "colab": {
      "provenance": [],
      "authorship_tag": "ABX9TyMO+opKAO/URJFoMnuas0O2",
      "include_colab_link": true
    },
    "kernelspec": {
      "name": "python3",
      "display_name": "Python 3"
    },
    "language_info": {
      "name": "python"
    }
  },
  "cells": [
    {
      "cell_type": "markdown",
      "metadata": {
        "id": "view-in-github",
        "colab_type": "text"
      },
      "source": [
        "<a href=\"https://colab.research.google.com/github/lkona666/-fsafdasd/blob/main/%D0%92%D1%81%D0%B5%D0%9F%D1%80%D0%B0%D0%BA%D1%82%D0%B8%D0%BA%D0%B8_%D0%9C%D0%B5%D0%B4%D0%B2%D0%B5%D0%B4%D0%B5%D0%B2_%D0%91%D0%98%D0%9A24_%D0%98%D0%921.ipynb\" target=\"_parent\"><img src=\"https://colab.research.google.com/assets/colab-badge.svg\" alt=\"Open In Colab\"/></a>"
      ]
    },
    {
      "cell_type": "markdown",
      "source": [
        "**Практика 2**"
      ],
      "metadata": {
        "id": "H-qmfSNlgHoz"
      }
    },
    {
      "cell_type": "markdown",
      "source": [
        "Задание 1"
      ],
      "metadata": {
        "id": "bDAXXI00gI3I"
      }
    },
    {
      "cell_type": "code",
      "execution_count": null,
      "metadata": {
        "colab": {
          "base_uri": "https://localhost:8080/"
        },
        "id": "-gLH_WlMemCT",
        "outputId": "fdc15a81-83b6-4c2e-dd64-7337c349acda"
      },
      "outputs": [
        {
          "output_type": "stream",
          "name": "stdout",
          "text": [
            "Длина первого катета: 3\n",
            "Длина второго катета: 2\n",
            "Площадь треугольника:  3.0\n"
          ]
        }
      ],
      "source": [
        "a = int(input(\"Длина первого катета: \"))\n",
        "b = int(input(\"Длина второго катета: \"))\n",
        "S = (a * b) / 2\n",
        "print(\"Площадь треугольника: \",S)"
      ]
    },
    {
      "cell_type": "markdown",
      "source": [
        "Задание 2"
      ],
      "metadata": {
        "id": "WCHmk27njORD"
      }
    },
    {
      "cell_type": "code",
      "source": [
        "a=456\n",
        "b=a//100\n",
        "c=(a//10)%10\n",
        "d=a%10\n",
        "print(a)\n",
        "print(b, c, d)\n",
        "print(b)\n",
        "print(c)\n",
        "print(d)"
      ],
      "metadata": {
        "colab": {
          "base_uri": "https://localhost:8080/"
        },
        "id": "p5Hjwu6Qh4GE",
        "outputId": "009462ae-8b44-41dc-e08e-9cfe0e4476d9"
      },
      "execution_count": null,
      "outputs": [
        {
          "output_type": "stream",
          "name": "stdout",
          "text": [
            "456\n",
            "4 5 6\n",
            "4\n",
            "5\n",
            "6\n"
          ]
        }
      ]
    },
    {
      "cell_type": "markdown",
      "source": [
        "Задание 3"
      ],
      "metadata": {
        "id": "ODZxEf1WjU0M"
      }
    },
    {
      "cell_type": "code",
      "source": [
        "n= int(input('Введите секунд: '))\n",
        "s=n%60\n",
        "m=(n%3600)//60\n",
        "h=(n//3600)%24\n",
        "chasiki = f'{h}:{m:02}:{s:02}'\n",
        "print(chasiki)"
      ],
      "metadata": {
        "colab": {
          "base_uri": "https://localhost:8080/"
        },
        "id": "7t2Ma9x3jVvY",
        "outputId": "fe2508a0-ac02-43d7-afbe-3bc52392a84e"
      },
      "execution_count": null,
      "outputs": [
        {
          "output_type": "stream",
          "name": "stdout",
          "text": [
            "Введите секунд: 5455\n",
            "1:30:55\n"
          ]
        }
      ]
    },
    {
      "cell_type": "markdown",
      "source": [
        "**Практика 3**"
      ],
      "metadata": {
        "id": "Ac7qBFurjt9z"
      }
    },
    {
      "cell_type": "markdown",
      "source": [
        "Задание 1"
      ],
      "metadata": {
        "id": "kM-RQG4zkEkN"
      }
    },
    {
      "cell_type": "code",
      "source": [
        "alphabet=input()\n",
        "res=alphabet.split(',')\n",
        "print((len(res[0])),len(res[1]),len(res[2]),len(res[3]))"
      ],
      "metadata": {
        "colab": {
          "base_uri": "https://localhost:8080/"
        },
        "id": "mBrx_HOzjwYw",
        "outputId": "4d2150d7-cf7a-46a6-b927-d5b05319dd78"
      },
      "execution_count": null,
      "outputs": [
        {
          "output_type": "stream",
          "name": "stdout",
          "text": [
            "dasd,fdsfs,ada,wewew\n",
            "4 5 3 5\n"
          ]
        }
      ]
    },
    {
      "cell_type": "markdown",
      "source": [
        "Задание 2"
      ],
      "metadata": {
        "id": "tlPBQf6ilb83"
      }
    },
    {
      "cell_type": "code",
      "source": [
        "n=8\n",
        "m=5\n",
        "string=\"Привет мир\"\n",
        "print(string[:n].split())\n",
        "print(string[m:].split())"
      ],
      "metadata": {
        "colab": {
          "base_uri": "https://localhost:8080/"
        },
        "id": "1V_aeN9YldjB",
        "outputId": "3d335331-1c44-4cc2-ec18-c4c5666aea86"
      },
      "execution_count": null,
      "outputs": [
        {
          "output_type": "stream",
          "name": "stdout",
          "text": [
            "['Привет', 'м']\n",
            "['т', 'мир']\n"
          ]
        }
      ]
    },
    {
      "cell_type": "markdown",
      "source": [
        "**Практика 4**"
      ],
      "metadata": {
        "id": "IB7rw_mAlmqu"
      }
    },
    {
      "cell_type": "markdown",
      "source": [
        "Задание 1"
      ],
      "metadata": {
        "id": "dvn5Ffzdl-QQ"
      }
    },
    {
      "cell_type": "code",
      "source": [
        "http=int(input('Введите номер ошибки:' ))\n",
        "match http:\n",
        "  case 400:\n",
        "    print('Bad Request')\n",
        "  case 401:\n",
        "    print('Unauthorized')\n",
        "  case 403:\n",
        "    print('Forbidden')\n",
        "  case 404:\n",
        "    print('Not found')\n",
        "  case 410:\n",
        "    print('Gone')\n",
        "  case _:\n",
        "    print('Error')\n"
      ],
      "metadata": {
        "colab": {
          "base_uri": "https://localhost:8080/"
        },
        "id": "I87wWOi7l8Bo",
        "outputId": "c8091874-a333-4182-fe64-a34ccbd67bfd"
      },
      "execution_count": null,
      "outputs": [
        {
          "output_type": "stream",
          "name": "stdout",
          "text": [
            "Введите номер ошибки:410\n",
            "Gone\n"
          ]
        }
      ]
    },
    {
      "cell_type": "markdown",
      "source": [
        "Задание 2"
      ],
      "metadata": {
        "id": "5EuchkEcmC3j"
      }
    },
    {
      "cell_type": "code",
      "source": [
        "x=int(input('Введите координату x: '))\n",
        "y=int(input('Введите координату y: '))\n",
        "if x>0 and y>0:\n",
        "  print('первая четверть')\n",
        "if x<0 and y>0:\n",
        "  print('вторая четверть')\n",
        "if x<0 and y<0:\n",
        "  print('третья четверть')\n",
        "if x>0 and y<0:\n",
        "  print('четвертая четверть')"
      ],
      "metadata": {
        "colab": {
          "base_uri": "https://localhost:8080/"
        },
        "id": "DZoJJIu4mEB2",
        "outputId": "ce15d665-e18a-4f64-c1f5-c5eb5112a243"
      },
      "execution_count": null,
      "outputs": [
        {
          "output_type": "stream",
          "name": "stdout",
          "text": [
            "Введите координату x: 1\n",
            "Введите координату y: 2\n",
            "первая четверть\n"
          ]
        }
      ]
    },
    {
      "cell_type": "markdown",
      "source": [
        "Задание 3"
      ],
      "metadata": {
        "id": "Uv-74m2vmcya"
      }
    },
    {
      "cell_type": "code",
      "source": [
        "god=int(input('Введите год: '))\n",
        "if god%4==0 or (god%100==0 and god%400==0):\n",
        "  print('ДА')\n",
        "else:\n",
        "  print('НЕТ')"
      ],
      "metadata": {
        "colab": {
          "base_uri": "https://localhost:8080/"
        },
        "id": "SnJ17bzNmdjM",
        "outputId": "5c2ed745-29b1-46e2-fc46-78b50de194e7"
      },
      "execution_count": null,
      "outputs": [
        {
          "output_type": "stream",
          "name": "stdout",
          "text": [
            "Введите год: 1444\n",
            "ДА\n"
          ]
        }
      ]
    },
    {
      "cell_type": "markdown",
      "source": [
        "**Практика 5**"
      ],
      "metadata": {
        "id": "VjAThUq0mlJj"
      }
    },
    {
      "cell_type": "markdown",
      "source": [
        "Задание 1"
      ],
      "metadata": {
        "id": "jQaPtKsknLOw"
      }
    },
    {
      "cell_type": "code",
      "source": [
        "a=int(input())\n",
        "sum=0\n",
        "while a!=0:\n",
        "    if a>0:\n",
        "        sum+=a\n",
        "    a=int(input())\n",
        "print(f\"Сумма введённых чисел = {sum}\")"
      ],
      "metadata": {
        "colab": {
          "base_uri": "https://localhost:8080/"
        },
        "id": "tT0gNiAEmoOR",
        "outputId": "56687a4d-4e9a-45b1-c59d-e3e569d778b3"
      },
      "execution_count": null,
      "outputs": [
        {
          "output_type": "stream",
          "name": "stdout",
          "text": [
            "144\n",
            "433\n",
            "23\n",
            "0\n",
            "Сумма введённых чисел = 600\n"
          ]
        }
      ]
    },
    {
      "cell_type": "markdown",
      "source": [
        "Задание 2"
      ],
      "metadata": {
        "id": "pTVXtBpRnyWM"
      }
    },
    {
      "cell_type": "code",
      "source": [
        "while True:\n",
        "    n=int(input(\"Введите n:\"))\n",
        "    m=int(input(\"Введите m:\"))\n",
        "    s=n+m\n",
        "    print(\"Сумма:\",s)\n",
        "    if n==m:\n",
        "        print(\"Вы ввели одинаковые числа. Программа завершена.\")\n",
        "        break\n"
      ],
      "metadata": {
        "colab": {
          "base_uri": "https://localhost:8080/"
        },
        "id": "HnY6-fpInRQ9",
        "outputId": "a09a5297-9de3-4177-d506-f983ddd8df2e"
      },
      "execution_count": null,
      "outputs": [
        {
          "output_type": "stream",
          "name": "stdout",
          "text": [
            "Введите n:30\n",
            "Введите m:40\n",
            "Сумма: 70\n",
            "Введите n:66\n",
            "Введите m:66\n",
            "Сумма: 132\n",
            "Вы ввели одинаковые числа. Программа завершена.\n"
          ]
        }
      ]
    },
    {
      "cell_type": "markdown",
      "source": [
        "Задание 3"
      ],
      "metadata": {
        "id": "NF3eBsIBo_SV"
      }
    },
    {
      "cell_type": "code",
      "source": [
        "#include <iostream>\n",
        "int main(){\n",
        "    setlocale(LC_ALL,\"RU\");\n",
        "    std::cout<<\"Не могу найти файл :( \";\n",
        "    return 0;\n",
        "}\n"
      ],
      "metadata": {
        "id": "P6LhGkWTo-_h"
      },
      "execution_count": null,
      "outputs": []
    },
    {
      "cell_type": "markdown",
      "source": [
        "**Практика 6**"
      ],
      "metadata": {
        "id": "-KekA2rxpI2r"
      }
    },
    {
      "cell_type": "markdown",
      "source": [
        "Задание 1"
      ],
      "metadata": {
        "id": "0eVc1eRdpO3t"
      }
    },
    {
      "cell_type": "code",
      "source": [
        "m=[]\n",
        "kvm=[]\n",
        "tvm=[]\n",
        "for i in range(1,11):\n",
        "  m.append(i)\n",
        "  kvm.append(i**2)\n",
        "  tvm.append(i**3)\n",
        "print(m,kvm,tvm, sep='\\n')"
      ],
      "metadata": {
        "colab": {
          "base_uri": "https://localhost:8080/"
        },
        "id": "IFdVmkr4pNI2",
        "outputId": "09b50f85-a668-4a32-fccc-c2072564085e"
      },
      "execution_count": null,
      "outputs": [
        {
          "output_type": "stream",
          "name": "stdout",
          "text": [
            "[1, 2, 3, 4, 5, 6, 7, 8, 9, 10]\n",
            "[1, 4, 9, 16, 25, 36, 49, 64, 81, 100]\n",
            "[1, 8, 27, 64, 125, 216, 343, 512, 729, 1000]\n"
          ]
        }
      ]
    },
    {
      "cell_type": "markdown",
      "source": [
        "Задание 2"
      ],
      "metadata": {
        "id": "ylbwpat4qjmY"
      }
    },
    {
      "cell_type": "code",
      "source": [
        "f=[]\n",
        "a=1\n",
        "while a!=0:\n",
        "  a=int(input())\n",
        "  f.append(a)\n",
        "print(f,min(f),max(f),sorted(f),sorted(f,reverse=True),len(f),f.count(1),sum(f),sep='\\n')\n",
        "\n"
      ],
      "metadata": {
        "colab": {
          "base_uri": "https://localhost:8080/",
          "height": 263
        },
        "id": "Zo_RK5KZqkor",
        "outputId": "199c9d05-601b-4aec-88ce-e17ac0353e60"
      },
      "execution_count": null,
      "outputs": [
        {
          "name": "stdout",
          "output_type": "stream",
          "text": [
            "1\n",
            "2\n",
            "1\n",
            "0\n"
          ]
        },
        {
          "output_type": "error",
          "ename": "TypeError",
          "evalue": "'int' object is not callable",
          "traceback": [
            "\u001b[0;31m---------------------------------------------------------------------------\u001b[0m",
            "\u001b[0;31mTypeError\u001b[0m                                 Traceback (most recent call last)",
            "\u001b[0;32m<ipython-input-78-0dbfa6bc37f2>\u001b[0m in \u001b[0;36m<cell line: 0>\u001b[0;34m()\u001b[0m\n\u001b[1;32m      4\u001b[0m   \u001b[0ma\u001b[0m\u001b[0;34m=\u001b[0m\u001b[0mint\u001b[0m\u001b[0;34m(\u001b[0m\u001b[0minput\u001b[0m\u001b[0;34m(\u001b[0m\u001b[0;34m)\u001b[0m\u001b[0;34m)\u001b[0m\u001b[0;34m\u001b[0m\u001b[0;34m\u001b[0m\u001b[0m\n\u001b[1;32m      5\u001b[0m   \u001b[0mf\u001b[0m\u001b[0;34m.\u001b[0m\u001b[0mappend\u001b[0m\u001b[0;34m(\u001b[0m\u001b[0ma\u001b[0m\u001b[0;34m)\u001b[0m\u001b[0;34m\u001b[0m\u001b[0;34m\u001b[0m\u001b[0m\n\u001b[0;32m----> 6\u001b[0;31m \u001b[0mprint\u001b[0m\u001b[0;34m(\u001b[0m\u001b[0mf\u001b[0m\u001b[0;34m,\u001b[0m\u001b[0mmin\u001b[0m\u001b[0;34m(\u001b[0m\u001b[0mf\u001b[0m\u001b[0;34m)\u001b[0m\u001b[0;34m,\u001b[0m\u001b[0mmax\u001b[0m\u001b[0;34m(\u001b[0m\u001b[0mf\u001b[0m\u001b[0;34m)\u001b[0m\u001b[0;34m,\u001b[0m\u001b[0msorted\u001b[0m\u001b[0;34m(\u001b[0m\u001b[0mf\u001b[0m\u001b[0;34m)\u001b[0m\u001b[0;34m,\u001b[0m\u001b[0msorted\u001b[0m\u001b[0;34m(\u001b[0m\u001b[0mf\u001b[0m\u001b[0;34m,\u001b[0m\u001b[0mreverse\u001b[0m\u001b[0;34m=\u001b[0m\u001b[0;32mTrue\u001b[0m\u001b[0;34m)\u001b[0m\u001b[0;34m,\u001b[0m\u001b[0mlen\u001b[0m\u001b[0;34m(\u001b[0m\u001b[0mf\u001b[0m\u001b[0;34m)\u001b[0m\u001b[0;34m,\u001b[0m\u001b[0mf\u001b[0m\u001b[0;34m.\u001b[0m\u001b[0mcount\u001b[0m\u001b[0;34m(\u001b[0m\u001b[0;36m1\u001b[0m\u001b[0;34m)\u001b[0m\u001b[0;34m,\u001b[0m\u001b[0msum\u001b[0m\u001b[0;34m(\u001b[0m\u001b[0mf\u001b[0m\u001b[0;34m)\u001b[0m\u001b[0;34m,\u001b[0m\u001b[0msep\u001b[0m\u001b[0;34m=\u001b[0m\u001b[0;34m'\\n'\u001b[0m\u001b[0;34m)\u001b[0m\u001b[0;34m\u001b[0m\u001b[0;34m\u001b[0m\u001b[0m\n\u001b[0m\u001b[1;32m      7\u001b[0m \u001b[0;34m\u001b[0m\u001b[0m\n",
            "\u001b[0;31mTypeError\u001b[0m: 'int' object is not callable"
          ]
        }
      ]
    },
    {
      "cell_type": "markdown",
      "source": [
        "Задание 3"
      ],
      "metadata": {
        "id": "zKVRkw3WxERO"
      }
    },
    {
      "cell_type": "code",
      "source": [
        "m=[]\n",
        "a=1\n",
        "while a!=0:\n",
        "  a=int(input())\n",
        "  if a%2==0 and a%10==0:\n",
        "    m.append(a)\n",
        "print(m)"
      ],
      "metadata": {
        "colab": {
          "base_uri": "https://localhost:8080/"
        },
        "id": "Y7ec5W2Zw_tI",
        "outputId": "ae7b786c-1114-4abb-e2b3-b5d5e6c58c01"
      },
      "execution_count": null,
      "outputs": [
        {
          "output_type": "stream",
          "name": "stdout",
          "text": [
            "10\n",
            "20\n",
            "31\n",
            "0\n",
            "[10, 20, 0]\n"
          ]
        }
      ]
    },
    {
      "cell_type": "markdown",
      "source": [
        "**Практика 7**"
      ],
      "metadata": {
        "id": "cOZGcKtMyGUc"
      }
    },
    {
      "cell_type": "markdown",
      "source": [
        "Задание 1"
      ],
      "metadata": {
        "id": "YKZX0_zeyMrs"
      }
    },
    {
      "cell_type": "code",
      "source": [
        "import numpy as mas\n",
        "num=int(input(\"Введите количество строк и столбцов: \"))\n",
        "mat1=[]\n",
        "mat2=[]\n",
        "a=0\n",
        "for i in range(num):\n",
        "  for f in range(num):\n",
        "    a+=1\n",
        "    mat2.append(a)\n",
        "  mat1.append(mat2)\n",
        "  mat2 = []\n",
        "print(mat1)\n",
        "if len(mat1)==1:\n",
        "  print(\"Определитель матрицы равен\", mat1[0][0])\n",
        "if len(mat1)==2:\n",
        "  print(\"Определитель матрицы равен\", mat1[0][0] * mat1[1][1] - mat1[0][1] * mat1[1][0])\n",
        "if len(mat1)>=3:\n",
        "  n_array = mas.array(mat1)\n",
        "  print(\"Определитель матрицы равен\", mas.linalg.det(n_array))"
      ],
      "metadata": {
        "colab": {
          "base_uri": "https://localhost:8080/"
        },
        "id": "irZHNCcoyI0h",
        "outputId": "95019d65-d6d4-4fff-ffdb-608769203fe7"
      },
      "execution_count": null,
      "outputs": [
        {
          "output_type": "stream",
          "name": "stdout",
          "text": [
            "Введите количество строк и столбцов: 2\n",
            "[[1, 2], [3, 4]]\n",
            "Определитель матрицы равен -2\n"
          ]
        }
      ]
    },
    {
      "cell_type": "markdown",
      "source": [
        "Задание 2"
      ],
      "metadata": {
        "id": "PdJWVdIrzQ5B"
      }
    },
    {
      "cell_type": "code",
      "source": [
        "table=[['ФИО','Балл по программированию','Балл по ОБЖ','Балл по алгебре'],['Петров', '78', '93', '61'],['Иванов', '56', '67', '73'],['Сидоров', '81', '75', '70']]\n",
        "print(\"['ОБЖ']\")\n",
        "subjects=table[0][1:]\n",
        "scores=table[0:][1:]\n",
        "sub1=table[0:][1]\n",
        "sub2=table[0:][2]\n",
        "sub3=table[0:][3]\n",
        "print(sub1)\n"
      ],
      "metadata": {
        "colab": {
          "base_uri": "https://localhost:8080/"
        },
        "id": "mAlUdw76zR_q",
        "outputId": "b87013eb-4d5e-4903-f1a1-d88a93590231"
      },
      "execution_count": null,
      "outputs": [
        {
          "output_type": "stream",
          "name": "stdout",
          "text": [
            "['ОБЖ']\n",
            "['Петров', '78', '93', '61']\n"
          ]
        }
      ]
    },
    {
      "cell_type": "markdown",
      "source": [
        "**Практика 9**"
      ],
      "metadata": {
        "id": "-fTghWf71fzm"
      }
    },
    {
      "cell_type": "markdown",
      "source": [
        "Задание 1"
      ],
      "metadata": {
        "id": "kVfTD-bS1sE1"
      }
    },
    {
      "cell_type": "code",
      "source": [
        "def main():\n",
        "    counts={}\n",
        "    while True:\n",
        "        num=input('Введите число:')\n",
        "        if num.upper()=='0':\n",
        "           break\n",
        "        try:\n",
        "            number=float(num)\n",
        "            if number in counts:\n",
        "              counts[number]+=1\n",
        "            else:\n",
        "              counts[number] = 1\n",
        "        except ValueError:\n",
        "          print('Введите правильное число')\n",
        "    unique_values=list(counts.keys())\n",
        "    print('Словарь и колво входов:',counts)\n",
        "    print('Список уникальных значений:',unique_values)\n",
        "if __name__ == '__main__':\n",
        "   main()"
      ],
      "metadata": {
        "colab": {
          "base_uri": "https://localhost:8080/"
        },
        "id": "o71JylHl1g1D",
        "outputId": "d54af09f-6eaf-4cc9-f485-e87bac6852d9"
      },
      "execution_count": null,
      "outputs": [
        {
          "output_type": "stream",
          "name": "stdout",
          "text": [
            "Введите число:22\n",
            "Введите число:12\n",
            "Введите число:33\n",
            "Введите число:0\n",
            "Словарь и колво входов: {22.0: 1, 12.0: 1, 33.0: 1}\n",
            "Список уникальных значений: [22.0, 12.0, 33.0]\n"
          ]
        }
      ]
    },
    {
      "cell_type": "markdown",
      "source": [
        "Задание 2"
      ],
      "metadata": {
        "id": "3lQ7QtIQ1tPd"
      }
    },
    {
      "cell_type": "code",
      "source": [
        "def main():\n",
        "    phone_book={}\n",
        "\n",
        "    while True:\n",
        "        command=input(\"Введите команду (add/who/exit): \")\n",
        "\n",
        "        if command=='add':\n",
        "            add_contact(phone_book)\n",
        "        elif command=='who':\n",
        "            find_contact(phone_book)\n",
        "        elif command=='exit':\n",
        "            print(\"Завершение работы.\")\n",
        "            break\n",
        "        else:\n",
        "            print(\"Неизвестная команда. Попробуйте снова.\")\n",
        "\n",
        "def add_contact(phone_book):\n",
        "    name=input(\"Введите имя: \")\n",
        "    number=input(\"Введите номер телефона: \")\n",
        "\n",
        "    phone_book[name]=number\n",
        "    print(f\"Контакт '{name}' добавлен с номером '{number}'.\")\n",
        "\n",
        "def find_contact(phone_book):\n",
        "    name=input(\"Введите имя для поиска: \")\n",
        "\n",
        "    if name in phone_book:\n",
        "        print(f\"Номер телефона для '{name}': {phone_book[name]}.\")\n",
        "    else:\n",
        "        print(f\"Контакт с именем '{name}' не найден.\")\n",
        "\n",
        "if __name__==\"__main__\":\n",
        "    main()"
      ],
      "metadata": {
        "colab": {
          "base_uri": "https://localhost:8080/"
        },
        "id": "fzTfA2P51uCZ",
        "outputId": "3824eb06-31c2-4fa7-fe0a-dba6f6b7bce4"
      },
      "execution_count": null,
      "outputs": [
        {
          "output_type": "stream",
          "name": "stdout",
          "text": [
            "Введите команду (add/who/exit): add\n",
            "Введите имя: Daniil\n",
            "Введите номер телефона: 89243322\n",
            "Контакт 'Daniil' добавлен с номером '89243322'.\n",
            "Введите команду (add/who/exit): who\n",
            "Введите имя для поиска: Daniil\n",
            "Номер телефона для 'Daniil': 89243322.\n",
            "Введите команду (add/who/exit): exit\n",
            "Завершение работы.\n"
          ]
        }
      ]
    },
    {
      "cell_type": "markdown",
      "source": [
        "**Практика 10**"
      ],
      "metadata": {
        "id": "MAxjUvOK19Lj"
      }
    },
    {
      "cell_type": "markdown",
      "source": [
        "Задание 1"
      ],
      "metadata": {
        "id": "w8zkQC-v2KWW"
      }
    },
    {
      "cell_type": "code",
      "source": [
        "def main():\n",
        "  sum=0\n",
        "  while True:\n",
        "    number=int(input(\"Введите число: \"))\n",
        "    if number==0:\n",
        "      break\n",
        "    sum+=number\n",
        "  return sum\n",
        "result=main()\n",
        "print(\"Сумма введеных чисел:\",result)"
      ],
      "metadata": {
        "colab": {
          "base_uri": "https://localhost:8080/"
        },
        "id": "KluBZuvg2HkK",
        "outputId": "ccc1ae77-f62e-4163-fa5e-7c3dc50305e6"
      },
      "execution_count": null,
      "outputs": [
        {
          "output_type": "stream",
          "name": "stdout",
          "text": [
            "Введите число: 2\n",
            "Введите число: 3\n",
            "Введите число: 4\n",
            "Введите число: 5\n",
            "Введите число: 0\n",
            "Сумма введеных чисел: 14\n"
          ]
        }
      ]
    },
    {
      "cell_type": "markdown",
      "source": [
        "Задание 2"
      ],
      "metadata": {
        "id": "9Q-pb1uf2Q0T"
      }
    },
    {
      "cell_type": "code",
      "source": [
        "def main():\n",
        "  kniga={}\n",
        "  while True:\n",
        "    vhod=input(\"Введите имя и номер через пробел \")\n",
        "    name,phone=vhod.split()\n",
        "    if name=='0' and phone =='0':\n",
        "      break\n",
        "    kniga[name]=phone\n",
        "  return kniga\n",
        "def sortinum(kniga):\n",
        "  return sorted(kniga.values())\n",
        "def sortinam(kniga):\n",
        "  return sorted(kniga.keys())\n",
        "kniga=main()\n",
        "sorted_numbers=sortinum(kniga)\n",
        "sorted_names=sortinam(kniga)\n",
        "print(\"Номера телефонов по возрастанию\",sorted_numbers)\n",
        "print(\"Имена по возрастанию\",sorted_names)\n"
      ],
      "metadata": {
        "colab": {
          "base_uri": "https://localhost:8080/",
          "height": 384
        },
        "id": "7xWD4Px22Rnf",
        "outputId": "0001d464-ed7d-45f5-94f8-b5283bb267c4"
      },
      "execution_count": null,
      "outputs": [
        {
          "name": "stdout",
          "output_type": "stream",
          "text": [
            "Введите имя и номер через пробел Daniil 8924\n",
            "Введите имя и номер через пробел Karl 666\n",
            "Введите имя и номер через пробел 0 0\n"
          ]
        },
        {
          "output_type": "error",
          "ename": "TypeError",
          "evalue": "'list' object is not callable",
          "traceback": [
            "\u001b[0;31m---------------------------------------------------------------------------\u001b[0m",
            "\u001b[0;31mTypeError\u001b[0m                                 Traceback (most recent call last)",
            "\u001b[0;32m<ipython-input-102-cc4e1082332d>\u001b[0m in \u001b[0;36m<cell line: 0>\u001b[0;34m()\u001b[0m\n\u001b[1;32m     13\u001b[0m   \u001b[0;32mreturn\u001b[0m \u001b[0msorted\u001b[0m\u001b[0;34m(\u001b[0m\u001b[0mkniga\u001b[0m\u001b[0;34m.\u001b[0m\u001b[0mkeys\u001b[0m\u001b[0;34m(\u001b[0m\u001b[0;34m)\u001b[0m\u001b[0;34m)\u001b[0m\u001b[0;34m\u001b[0m\u001b[0;34m\u001b[0m\u001b[0m\n\u001b[1;32m     14\u001b[0m \u001b[0mkniga\u001b[0m\u001b[0;34m=\u001b[0m\u001b[0mmain\u001b[0m\u001b[0;34m(\u001b[0m\u001b[0;34m)\u001b[0m\u001b[0;34m\u001b[0m\u001b[0;34m\u001b[0m\u001b[0m\n\u001b[0;32m---> 15\u001b[0;31m \u001b[0msorted_numbers\u001b[0m\u001b[0;34m=\u001b[0m\u001b[0msortinum\u001b[0m\u001b[0;34m(\u001b[0m\u001b[0mkniga\u001b[0m\u001b[0;34m)\u001b[0m\u001b[0;34m\u001b[0m\u001b[0;34m\u001b[0m\u001b[0m\n\u001b[0m\u001b[1;32m     16\u001b[0m \u001b[0msorted_names\u001b[0m\u001b[0;34m=\u001b[0m\u001b[0msortinam\u001b[0m\u001b[0;34m(\u001b[0m\u001b[0mkniga\u001b[0m\u001b[0;34m)\u001b[0m\u001b[0;34m\u001b[0m\u001b[0;34m\u001b[0m\u001b[0m\n\u001b[1;32m     17\u001b[0m \u001b[0mprint\u001b[0m\u001b[0;34m(\u001b[0m\u001b[0;34m\"Номера телефонов по возрастанию\"\u001b[0m\u001b[0;34m,\u001b[0m\u001b[0msorted_numbers\u001b[0m\u001b[0;34m)\u001b[0m\u001b[0;34m\u001b[0m\u001b[0;34m\u001b[0m\u001b[0m\n",
            "\u001b[0;32m<ipython-input-102-cc4e1082332d>\u001b[0m in \u001b[0;36msortinum\u001b[0;34m(kniga)\u001b[0m\n\u001b[1;32m      9\u001b[0m   \u001b[0;32mreturn\u001b[0m \u001b[0mkniga\u001b[0m\u001b[0;34m\u001b[0m\u001b[0;34m\u001b[0m\u001b[0m\n\u001b[1;32m     10\u001b[0m \u001b[0;32mdef\u001b[0m \u001b[0msortinum\u001b[0m\u001b[0;34m(\u001b[0m\u001b[0mkniga\u001b[0m\u001b[0;34m)\u001b[0m\u001b[0;34m:\u001b[0m\u001b[0;34m\u001b[0m\u001b[0;34m\u001b[0m\u001b[0m\n\u001b[0;32m---> 11\u001b[0;31m   \u001b[0;32mreturn\u001b[0m \u001b[0msorted\u001b[0m\u001b[0;34m(\u001b[0m\u001b[0mkniga\u001b[0m\u001b[0;34m.\u001b[0m\u001b[0mvalues\u001b[0m\u001b[0;34m(\u001b[0m\u001b[0;34m)\u001b[0m\u001b[0;34m)\u001b[0m\u001b[0;34m\u001b[0m\u001b[0;34m\u001b[0m\u001b[0m\n\u001b[0m\u001b[1;32m     12\u001b[0m \u001b[0;32mdef\u001b[0m \u001b[0msortinam\u001b[0m\u001b[0;34m(\u001b[0m\u001b[0mkniga\u001b[0m\u001b[0;34m)\u001b[0m\u001b[0;34m:\u001b[0m\u001b[0;34m\u001b[0m\u001b[0;34m\u001b[0m\u001b[0m\n\u001b[1;32m     13\u001b[0m   \u001b[0;32mreturn\u001b[0m \u001b[0msorted\u001b[0m\u001b[0;34m(\u001b[0m\u001b[0mkniga\u001b[0m\u001b[0;34m.\u001b[0m\u001b[0mkeys\u001b[0m\u001b[0;34m(\u001b[0m\u001b[0;34m)\u001b[0m\u001b[0;34m)\u001b[0m\u001b[0;34m\u001b[0m\u001b[0;34m\u001b[0m\u001b[0m\n",
            "\u001b[0;31mTypeError\u001b[0m: 'list' object is not callable"
          ]
        }
      ]
    }
  ]
}