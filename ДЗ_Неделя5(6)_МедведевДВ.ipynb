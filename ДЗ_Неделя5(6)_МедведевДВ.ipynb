{
  "nbformat": 4,
  "nbformat_minor": 0,
  "metadata": {
    "colab": {
      "provenance": [],
      "authorship_tag": "ABX9TyNLJ4wZqU/YebbVZ4I3k9MG",
      "include_colab_link": true
    },
    "kernelspec": {
      "name": "python3",
      "display_name": "Python 3"
    },
    "language_info": {
      "name": "python"
    }
  },
  "cells": [
    {
      "cell_type": "markdown",
      "metadata": {
        "id": "view-in-github",
        "colab_type": "text"
      },
      "source": [
        "<a href=\"https://colab.research.google.com/github/lkona666/-fsafdasd/blob/main/%D0%94%D0%97_%D0%9D%D0%B5%D0%B4%D0%B5%D0%BB%D1%8F5(6)_%D0%9C%D0%B5%D0%B4%D0%B2%D0%B5%D0%B4%D0%B5%D0%B2%D0%94%D0%92.ipynb\" target=\"_parent\"><img src=\"https://colab.research.google.com/assets/colab-badge.svg\" alt=\"Open In Colab\"/></a>"
      ]
    },
    {
      "cell_type": "markdown",
      "source": [
        "Задача 1"
      ],
      "metadata": {
        "id": "8ff3GgPbb6P7"
      }
    },
    {
      "cell_type": "code",
      "execution_count": 5,
      "metadata": {
        "colab": {
          "base_uri": "https://localhost:8080/"
        },
        "id": "uCJVqgOPa6cZ",
        "outputId": "dfe90695-9005-454e-fec9-651a2a653942"
      },
      "outputs": [
        {
          "output_type": "stream",
          "name": "stdout",
          "text": [
            "1 2 3 4 3 2 1 4 5\n",
            "NO\n",
            "NO\n",
            "NO\n",
            "NO\n",
            "YES\n",
            "YES\n",
            "YES\n",
            "YES\n",
            "NO\n"
          ]
        }
      ],
      "source": [
        "numbers=input().split()\n",
        "vidim=set()\n",
        "for number in numbers:\n",
        "    if number in vidim:\n",
        "        print(\"YES\")\n",
        "    else:\n",
        "        print(\"NO\")\n",
        "        vidim.add(number)"
      ]
    },
    {
      "cell_type": "markdown",
      "source": [
        "Задача 2"
      ],
      "metadata": {
        "id": "40ALo1NJc5On"
      }
    },
    {
      "cell_type": "code",
      "source": [],
      "metadata": {
        "id": "eHhIL8H-c7pD"
      },
      "execution_count": null,
      "outputs": []
    },
    {
      "cell_type": "markdown",
      "source": [
        "Задача 3"
      ],
      "metadata": {
        "id": "oZwx0KVJfI0k"
      }
    },
    {
      "cell_type": "code",
      "source": [
        "x=int(input())\n",
        "citiescountry={}\n",
        "for i in range(x):\n",
        "    data=input().split()\n",
        "    country=data[0]\n",
        "    cities=data[1:]\n",
        "    for city in cities:\n",
        "        citiescountry[city]=country\n",
        "y=int(input())\n",
        "for i in range(y):\n",
        "    city_query=input().strip()\n",
        "    print(citiescountry.get(city_query,\"Unknown\"))"
      ],
      "metadata": {
        "colab": {
          "base_uri": "https://localhost:8080/"
        },
        "id": "caZMSjqkfJ6g",
        "outputId": "8216101a-2767-4a59-ec1d-6f36f683c9b0"
      },
      "execution_count": 14,
      "outputs": [
        {
          "output_type": "stream",
          "name": "stdout",
          "text": [
            "3\n",
            "Россия Киев Москва Владивосток\n",
            "Киев\n",
            "Россия Киев\n",
            "3\n",
            "Киев\n",
            "Россия\n",
            "Москва\n",
            "Россия\n",
            "Владивосток\n",
            "Россия\n"
          ]
        }
      ]
    },
    {
      "cell_type": "markdown",
      "source": [
        "Задача 4"
      ],
      "metadata": {
        "id": "7bBsXH7wkm5u"
      }
    },
    {
      "cell_type": "code",
      "source": [
        "votes={}\n",
        "try:\n",
        "    while True:\n",
        "        line=input()\n",
        "        if not line:\n",
        "            break\n",
        "        parts=line.rsplit(maxsplit=1)\n",
        "        candidate=parts[0]\n",
        "        num_votes=int(parts[1])\n",
        "        if candidate in votes:\n",
        "            votes[candidate]+=num_votes\n",
        "        else:\n",
        "            votes[candidate]=num_votes\n",
        "except EOFError:\n",
        "    pass\n",
        "sorted_candidates=sorted(votes.keys())\n",
        "for candidate in sorted_candidates:\n",
        "    print(candidate,votes[candidate])"
      ],
      "metadata": {
        "colab": {
          "base_uri": "https://localhost:8080/"
        },
        "id": "tM2iCLXhkn5W",
        "outputId": "c0e00496-abcc-4628-ec94-9277c30816ae"
      },
      "execution_count": 15,
      "outputs": [
        {
          "output_type": "stream",
          "name": "stdout",
          "text": [
            "Жо Байден 322\n",
            "Владимир Путин 9999\n",
            "Трамп 555\n",
            "Жо Байден 223\n",
            "Трамп 434\n",
            "Владимир Путин 444\n",
            "Лен Ладен 1111\n",
            "\n",
            "Владимир Путин 10443\n",
            "Жо Байден 545\n",
            "Лен Ладен 1111\n",
            "Трамп 989\n"
          ]
        }
      ]
    },
    {
      "cell_type": "markdown",
      "source": [
        "Задача 5"
      ],
      "metadata": {
        "id": "70-a0IlUmxgI"
      }
    },
    {
      "cell_type": "code",
      "source": [
        "from collections import defaultdict\n",
        "text=input().lower()\n",
        "words=text.split()\n",
        "word_count=defaultdict(int)\n",
        "for word in words:\n",
        "    word_count[word]+=1\n",
        "sorted_words=sorted(word_count.items(),key=lambda x:(-x[1], x[0]))\n",
        "for word,count in sorted_words:\n",
        "    print(word)"
      ],
      "metadata": {
        "colab": {
          "base_uri": "https://localhost:8080/"
        },
        "id": "zhmFPEHOmyj5",
        "outputId": "e494ce45-f0ae-4f74-c110-5bf2209a03c0"
      },
      "execution_count": 16,
      "outputs": [
        {
          "output_type": "stream",
          "name": "stdout",
          "text": [
            "Люблю печеньки с молочком чтобы стать большим большим качком\n",
            "большим\n",
            "качком\n",
            "люблю\n",
            "молочком\n",
            "печеньки\n",
            "с\n",
            "стать\n",
            "чтобы\n"
          ]
        }
      ]
    },
    {
      "cell_type": "markdown",
      "source": [
        "Задача 6"
      ],
      "metadata": {
        "id": "tWwuEkabnlew"
      }
    },
    {
      "cell_type": "code",
      "source": [
        "class Bank:\n",
        "    def __init__(self):\n",
        "        self.accounts={}\n",
        "    def deposit(self,name,amount):\n",
        "        \"\"\"Зачисляет сумму на счет клиента. Если счета нет, создается новый.\"\"\"\n",
        "        if name not in self.accounts:\n",
        "            self.accounts[name]=0\n",
        "        self.accounts[name]+=amount\n",
        "    def withdraw(self,name,amount):\n",
        "        \"\"\"Снимает сумму со счета клиента. Если счета нет, создается новый.\"\"\"\n",
        "        if name not in self.accounts:\n",
        "            self.accounts[name]=0\n",
        "        self.accounts[name]-=amount\n",
        "    def balance(self,name):\n",
        "        \"\"\"Возвращает остаток на счету клиента или 'ERROR', если счета нет.\"\"\"\n",
        "        if name not in self.accounts:\n",
        "            return \"ERROR\"\n",
        "        return self.accounts[name]\n",
        "    def transfer(self,from_name,to_name,amount):\n",
        "        \"\"\"Переводит сумму со счета одного клиента на счет другого. Создает счета, если их нет.\"\"\"\n",
        "        if from_name not in self.accounts:\n",
        "            self.accounts[from_name]=0\n",
        "        if to_name not in self.accounts:\n",
        "            self.accounts[to_name]=0\n",
        "        self.accounts[from_name]-=amount\n",
        "        self.accounts[to_name]+=amount\n",
        "    def income(self,percentage):\n",
        "        \"\"\"Начисляет проценты всем клиентам с положительным остатком на счете.\"\"\"\n",
        "        for name in self.accounts:\n",
        "            if self.accounts[name]>0:\n",
        "                interest=(self.accounts[name]*percentage)//100\n",
        "                self.accounts[name]+=interest\n",
        "if __name__ == \"__main__\":\n",
        "    bank=Bank()\n",
        "    while True:\n",
        "        command=input().strip().split()\n",
        "        if command[0]==\"DEPOSIT\":\n",
        "            bank.deposit(command[1],int(command[2]))\n",
        "        elif command[0]==\"WITHDRAW\":\n",
        "            bank.withdraw(command[1],int(command[2]))\n",
        "        elif command[0]==\"BALANCE\":\n",
        "            result=bank.balance(command[1])\n",
        "            print(result)\n",
        "        elif command[0]==\"TRANSFER\":\n",
        "            bank.transfer(command[1],command[2],int(command[3]))\n",
        "        elif command[0]==\"INCOME\":\n",
        "            bank.income(int(command[1]))\n",
        "        elif command[0]==\"EXIT\":\n",
        "            break\n"
      ],
      "metadata": {
        "colab": {
          "base_uri": "https://localhost:8080/"
        },
        "id": "qeFui7f5noMv",
        "outputId": "69d0fbe1-8aa6-4c28-b5ea-0cb7baa5903b"
      },
      "execution_count": 19,
      "outputs": [
        {
          "name": "stdout",
          "output_type": "stream",
          "text": [
            "EXIT\n"
          ]
        }
      ]
    },
    {
      "cell_type": "markdown",
      "source": [
        "Задача 7"
      ],
      "metadata": {
        "id": "iOs6borapEDk"
      }
    },
    {
      "cell_type": "code",
      "source": [
        "def create_matrix(N,M):\n",
        "    matrix=[[0]*M for _ in range(N)]\n",
        "    value=0\n",
        "    for i in range(N):\n",
        "        if i%2==0:\n",
        "            for j in range(M):\n",
        "                matrix[i][j]=value\n",
        "                value += 1\n",
        "        else:\n",
        "            for j in range(M-1,-1,-1):\n",
        "                matrix[i][j]=value\n",
        "                value+=1\n",
        "\n",
        "    return matrix\n",
        "\n",
        "def main():\n",
        "    N,M,X,Y=map(int,input(\"Введите N, M, X, Y: \").split())\n",
        "    matrix=create_matrix(N,M)\n",
        "    print(matrix[X-1][Y-1])\n",
        "\n",
        "if __name__ == \"__main__\":\n",
        "    main()"
      ],
      "metadata": {
        "colab": {
          "base_uri": "https://localhost:8080/"
        },
        "id": "xP22P_s2pHMz",
        "outputId": "e81cd0fa-ea89-4600-a9e3-eacccc0ae34e"
      },
      "execution_count": 24,
      "outputs": [
        {
          "output_type": "stream",
          "name": "stdout",
          "text": [
            "Введите N, M, X, Y: 3 2 3 1\n",
            "4\n"
          ]
        }
      ]
    },
    {
      "cell_type": "markdown",
      "source": [
        "Задача 8"
      ],
      "metadata": {
        "id": "5E18fQwEqTxT"
      }
    },
    {
      "cell_type": "code",
      "source": [
        "def calculate_calories(N,pasture):\n",
        "    x,y=0,0\n",
        "    total_calories=pasture[N-1][0]\n",
        "    while x<N-1 or y<N- 1:\n",
        "        if x<N-1 and y<N-1:\n",
        "            if pasture[x+1][y]>pasture[x][y+1]:\n",
        "                x+=1\n",
        "            else:\n",
        "                y+=1\n",
        "        elif x<N-1:\n",
        "            x+=1\n",
        "        else:\n",
        "            y+=1\n",
        "        total_calories+=pasture[x][y]\n",
        "    return total_calories\n",
        "N=int(input(\"Введите размер поля N (2 ≤ N ≤ 10): \"))\n",
        "pasture=[]\n",
        "for i in range(N):\n",
        "    row=list(map(int,input().split()))\n",
        "    pasture.append(row)\n",
        "result=calculate_calories(N,pasture)\n",
        "print(\"Общее число калорий, полученных коровой:\",result)"
      ],
      "metadata": {
        "colab": {
          "base_uri": "https://localhost:8080/"
        },
        "id": "2ObT8DEQqUt_",
        "outputId": "c2448103-b222-4c68-ccd2-c818aa35f25b"
      },
      "execution_count": 27,
      "outputs": [
        {
          "output_type": "stream",
          "name": "stdout",
          "text": [
            "Введите размер поля N (2 ≤ N ≤ 10): 5\n",
            "1 2 3 4 6\n",
            "5 7 8 9 10\n",
            "11 12 13 14 15\n",
            "16 17 18 19 20\n",
            "21 22 23 24 25\n",
            "Общее число калорий, полученных коровой: 168\n"
          ]
        }
      ]
    },
    {
      "cell_type": "markdown",
      "source": [
        "Задача 9"
      ],
      "metadata": {
        "id": "yRzOQFiRrPaa"
      }
    },
    {
      "cell_type": "code",
      "source": [
        "def main():\n",
        "    X=int(input().strip())\n",
        "    N=int(input().strip())\n",
        "    matrix=[]\n",
        "    for _ in range(N):\n",
        "        row=list(map(int,input().strip().split()))\n",
        "        matrix.append(row)\n",
        "    for col in range(N):\n",
        "        found=False\n",
        "        for row in range(N):\n",
        "            if matrix[row][col]==X:\n",
        "                found=True\n",
        "                break\n",
        "        if found:\n",
        "            print(\"YES\")\n",
        "        else:\n",
        "            print(\"NO\")\n",
        "\n",
        "if __name__ == \"__main__\":\n",
        "    main()"
      ],
      "metadata": {
        "colab": {
          "base_uri": "https://localhost:8080/"
        },
        "id": "hFs0XB-JrQnj",
        "outputId": "2a0b72fb-eba0-4782-efc8-c324bf0b1343"
      },
      "execution_count": 29,
      "outputs": [
        {
          "output_type": "stream",
          "name": "stdout",
          "text": [
            "5\n",
            "3\n",
            "3 2 1\n",
            "6 5 4\n",
            "9 8 7\n",
            "NO\n",
            "YES\n",
            "NO\n"
          ]
        }
      ]
    }
  ]
}