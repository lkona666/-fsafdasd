{
  "nbformat": 4,
  "nbformat_minor": 0,
  "metadata": {
    "colab": {
      "provenance": [],
      "authorship_tag": "ABX9TyPieTUZlxW3NwXBTkIMgF5T",
      "include_colab_link": true
    },
    "kernelspec": {
      "name": "python3",
      "display_name": "Python 3"
    },
    "language_info": {
      "name": "python"
    }
  },
  "cells": [
    {
      "cell_type": "markdown",
      "metadata": {
        "id": "view-in-github",
        "colab_type": "text"
      },
      "source": [
        "<a href=\"https://colab.research.google.com/github/lkona666/-fsafdasd/blob/main/%D0%9F%D1%80%D0%B0%D0%BA%D1%82%D0%B8%D0%BA%D0%B04_%D0%9C%D0%B5%D0%B4%D0%B2%D0%B5%D0%B4%D0%B5%D0%B2_%D0%91%D0%98%D0%9A_24_%D0%98%D0%921.ipynb\" target=\"_parent\"><img src=\"https://colab.research.google.com/assets/colab-badge.svg\" alt=\"Open In Colab\"/></a>"
      ]
    },
    {
      "cell_type": "markdown",
      "source": [
        "14/10/24"
      ],
      "metadata": {
        "id": "9j98LkTmMv3b"
      }
    },
    {
      "cell_type": "code",
      "execution_count": 4,
      "metadata": {
        "colab": {
          "base_uri": "https://localhost:8080/"
        },
        "id": "3YLqGUToFSwQ",
        "outputId": "45546284-bd13-4337-fef7-b167b500098d"
      },
      "outputs": [
        {
          "output_type": "stream",
          "name": "stdout",
          "text": [
            "Введите номер ошибки:321\n",
            "Error\n"
          ]
        }
      ],
      "source": [
        "http=int(input('Введите номер ошибки:' ))\n",
        "match http:\n",
        "  case 400:\n",
        "    print('Bad Request')\n",
        "  case 401:\n",
        "    print('Unauthorized')\n",
        "  case 403:\n",
        "    print('Forbidden')\n",
        "  case 404:\n",
        "    print('Not found')\n",
        "  case 410:\n",
        "    print('Gone')\n",
        "  case _:\n",
        "    print('Error')\n"
      ]
    },
    {
      "cell_type": "code",
      "source": [
        "x=int(input('Введите координату x: '))\n",
        "y=int(input('Введите координату y: '))\n",
        "if x>0 and y>0:\n",
        "  print('первая четверть')\n",
        "if x<0 and y>0:\n",
        "  print('вторая четверть')\n",
        "if x<0 and y<0:\n",
        "  print('третья четверть')\n",
        "if x>0 and y<0:\n",
        "  print('четвертая четверть')\n"
      ],
      "metadata": {
        "colab": {
          "base_uri": "https://localhost:8080/"
        },
        "id": "n8KgONfIM6gA",
        "outputId": "017e8310-e5d1-4656-8309-fe700398eb60"
      },
      "execution_count": 6,
      "outputs": [
        {
          "output_type": "stream",
          "name": "stdout",
          "text": [
            "Введите координату x: 1\n",
            "Введите координату y: 1\n",
            "первая четверть\n"
          ]
        }
      ]
    },
    {
      "cell_type": "code",
      "source": [
        "god=int(input('Введите год: '))\n",
        "if god%4==0 or (god%100==0 and god%400==0):\n",
        "  print('Високосный')\n",
        "else:\n",
        "  print('Не високосный')"
      ],
      "metadata": {
        "colab": {
          "base_uri": "https://localhost:8080/"
        },
        "id": "TNpBOHoWN6JU",
        "outputId": "e3d75ea1-9140-41f4-8bdb-2c74e255662a"
      },
      "execution_count": 14,
      "outputs": [
        {
          "output_type": "stream",
          "name": "stdout",
          "text": [
            "Введите год: 1900\n",
            "Високосный\n"
          ]
        }
      ]
    },
    {
      "cell_type": "code",
      "source": [
        "a=int(input('Введите число: '))\n",
        "b=int(input('Введите число: '))\n",
        "print(a//b)"
      ],
      "metadata": {
        "colab": {
          "base_uri": "https://localhost:8080/",
          "height": 211
        },
        "id": "shrNjFEmRelY",
        "outputId": "fd0fb9db-4078-4e79-83b5-2560de12cba1"
      },
      "execution_count": 17,
      "outputs": [
        {
          "name": "stdout",
          "output_type": "stream",
          "text": [
            "Введите число: 2\n",
            "Введите число: 0\n"
          ]
        },
        {
          "output_type": "error",
          "ename": "ZeroDivisionError",
          "evalue": "integer division or modulo by zero",
          "traceback": [
            "\u001b[0;31m---------------------------------------------------------------------------\u001b[0m",
            "\u001b[0;31mZeroDivisionError\u001b[0m                         Traceback (most recent call last)",
            "\u001b[0;32m<ipython-input-17-d766c9129f6d>\u001b[0m in \u001b[0;36m<cell line: 3>\u001b[0;34m()\u001b[0m\n\u001b[1;32m      1\u001b[0m \u001b[0ma\u001b[0m\u001b[0;34m=\u001b[0m\u001b[0mint\u001b[0m\u001b[0;34m(\u001b[0m\u001b[0minput\u001b[0m\u001b[0;34m(\u001b[0m\u001b[0;34m'Введите число: '\u001b[0m\u001b[0;34m)\u001b[0m\u001b[0;34m)\u001b[0m\u001b[0;34m\u001b[0m\u001b[0;34m\u001b[0m\u001b[0m\n\u001b[1;32m      2\u001b[0m \u001b[0mb\u001b[0m\u001b[0;34m=\u001b[0m\u001b[0mint\u001b[0m\u001b[0;34m(\u001b[0m\u001b[0minput\u001b[0m\u001b[0;34m(\u001b[0m\u001b[0;34m'Введите число: '\u001b[0m\u001b[0;34m)\u001b[0m\u001b[0;34m)\u001b[0m\u001b[0;34m\u001b[0m\u001b[0;34m\u001b[0m\u001b[0m\n\u001b[0;32m----> 3\u001b[0;31m \u001b[0mprint\u001b[0m\u001b[0;34m(\u001b[0m\u001b[0ma\u001b[0m\u001b[0;34m//\u001b[0m\u001b[0mb\u001b[0m\u001b[0;34m)\u001b[0m\u001b[0;34m\u001b[0m\u001b[0;34m\u001b[0m\u001b[0m\n\u001b[0m",
            "\u001b[0;31mZeroDivisionError\u001b[0m: integer division or modulo by zero"
          ]
        }
      ]
    }
  ]
}