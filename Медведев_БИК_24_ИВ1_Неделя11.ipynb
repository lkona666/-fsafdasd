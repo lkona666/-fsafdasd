{
  "nbformat": 4,
  "nbformat_minor": 0,
  "metadata": {
    "colab": {
      "provenance": [],
      "authorship_tag": "ABX9TyORbL7X8R1SRHPhFfXN7vSo",
      "include_colab_link": true
    },
    "kernelspec": {
      "name": "python3",
      "display_name": "Python 3"
    },
    "language_info": {
      "name": "python"
    }
  },
  "cells": [
    {
      "cell_type": "markdown",
      "metadata": {
        "id": "view-in-github",
        "colab_type": "text"
      },
      "source": [
        "<a href=\"https://colab.research.google.com/github/lkona666/-fsafdasd/blob/main/%D0%9C%D0%B5%D0%B4%D0%B2%D0%B5%D0%B4%D0%B5%D0%B2_%D0%91%D0%98%D0%9A_24_%D0%98%D0%921_%D0%9D%D0%B5%D0%B4%D0%B5%D0%BB%D1%8F11.ipynb\" target=\"_parent\"><img src=\"https://colab.research.google.com/assets/colab-badge.svg\" alt=\"Open In Colab\"/></a>"
      ]
    },
    {
      "cell_type": "markdown",
      "source": [
        "Задание 1"
      ],
      "metadata": {
        "id": "DMpiBVD2g2uA"
      }
    },
    {
      "cell_type": "code",
      "execution_count": 12,
      "metadata": {
        "id": "7yMwfPyeZeNf"
      },
      "outputs": [],
      "source": [
        "import random\n",
        "\n",
        "with open('/input.txt', 'r', encoding='utf-8') as infile:\n",
        "    lines = infile.readlines()\n",
        "with open('/result.txt','w',encoding='utf-8') as outfile:\n",
        "    for line in lines:\n",
        "        random_number = random.randint(1000, 9999)\n",
        "        outfile.write(f\"{line.strip()} {random_number}\\n\")"
      ]
    }
  ]
}