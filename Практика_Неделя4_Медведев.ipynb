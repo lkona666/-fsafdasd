{
  "nbformat": 4,
  "nbformat_minor": 0,
  "metadata": {
    "colab": {
      "provenance": [],
      "authorship_tag": "ABX9TyNB1h30XF/w96GJ2KJUWrPT",
      "include_colab_link": true
    },
    "kernelspec": {
      "name": "python3",
      "display_name": "Python 3"
    },
    "language_info": {
      "name": "python"
    }
  },
  "cells": [
    {
      "cell_type": "markdown",
      "metadata": {
        "id": "view-in-github",
        "colab_type": "text"
      },
      "source": [
        "<a href=\"https://colab.research.google.com/github/lkona666/-fsafdasd/blob/main/%D0%9F%D1%80%D0%B0%D0%BA%D1%82%D0%B8%D0%BA%D0%B0_%D0%9D%D0%B5%D0%B4%D0%B5%D0%BB%D1%8F4_%D0%9C%D0%B5%D0%B4%D0%B2%D0%B5%D0%B4%D0%B5%D0%B2.ipynb\" target=\"_parent\"><img src=\"https://colab.research.google.com/assets/colab-badge.svg\" alt=\"Open In Colab\"/></a>"
      ]
    },
    {
      "cell_type": "markdown",
      "source": [
        "Задача 1"
      ],
      "metadata": {
        "id": "rK0mDzmjU4pI"
      }
    },
    {
      "cell_type": "code",
      "source": [
        "spisok=[]\n",
        "while True:\n",
        "  chislo=int(input())\n",
        "  if chislo==0:\n",
        "    break\n",
        "  if chislo>2 and chislo<5:\n",
        "    spisok.append(chislo)\n",
        "  else:\n",
        "    print(\"\")\n",
        "print(spisok)"
      ],
      "metadata": {
        "colab": {
          "base_uri": "https://localhost:8080/"
        },
        "id": "3rsWxw4FU39J",
        "outputId": "64ba1dfa-4128-42fd-91b1-a4c1164261cf"
      },
      "execution_count": 16,
      "outputs": [
        {
          "output_type": "stream",
          "name": "stdout",
          "text": [
            "1\n",
            "\n",
            "2\n",
            "\n",
            "4\n",
            "3\n",
            "4\n",
            "5\n",
            "\n",
            "0\n",
            "[4, 3, 4]\n"
          ]
        }
      ]
    },
    {
      "cell_type": "markdown",
      "source": [
        "Задача 2"
      ],
      "metadata": {
        "id": "ngdMVzbFU-ND"
      }
    },
    {
      "cell_type": "code",
      "execution_count": 13,
      "metadata": {
        "colab": {
          "base_uri": "https://localhost:8080/"
        },
        "id": "XwQ901PNNEve",
        "outputId": "bd24b8ef-3494-430a-c7ce-5efa94498ff1"
      },
      "outputs": [
        {
          "output_type": "stream",
          "name": "stdout",
          "text": [
            "1\n",
            "\n",
            "2\n",
            "\n",
            "3\n",
            "4\n",
            "5\n",
            "\n",
            "0\n",
            "3.5\n"
          ]
        }
      ],
      "source": [
        "sum=0\n",
        "kolvo=0\n",
        "while True:\n",
        "  chislo=int(input())\n",
        "  if chislo==0:\n",
        "    break\n",
        "  if chislo>2 and chislo<5:\n",
        "    kolvo+=1\n",
        "    sum+=chislo\n",
        "  else:\n",
        "    print(\"\")\n",
        "print(sum/kolvo)"
      ]
    }
  ]
}