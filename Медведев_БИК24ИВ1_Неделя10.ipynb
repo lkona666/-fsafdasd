{
  "nbformat": 4,
  "nbformat_minor": 0,
  "metadata": {
    "colab": {
      "provenance": [],
      "authorship_tag": "ABX9TyNfcy74Si83hCQYXPWuvxTG",
      "include_colab_link": true
    },
    "kernelspec": {
      "name": "python3",
      "display_name": "Python 3"
    },
    "language_info": {
      "name": "python"
    }
  },
  "cells": [
    {
      "cell_type": "markdown",
      "metadata": {
        "id": "view-in-github",
        "colab_type": "text"
      },
      "source": [
        "<a href=\"https://colab.research.google.com/github/lkona666/-fsafdasd/blob/main/%D0%9C%D0%B5%D0%B4%D0%B2%D0%B5%D0%B4%D0%B5%D0%B2_%D0%91%D0%98%D0%9A24%D0%98%D0%921_%D0%9D%D0%B5%D0%B4%D0%B5%D0%BB%D1%8F10.ipynb\" target=\"_parent\"><img src=\"https://colab.research.google.com/assets/colab-badge.svg\" alt=\"Open In Colab\"/></a>"
      ]
    },
    {
      "cell_type": "markdown",
      "source": [
        "Задание 1"
      ],
      "metadata": {
        "id": "b5ug-gJwSiiK"
      }
    },
    {
      "cell_type": "code",
      "execution_count": 4,
      "metadata": {
        "colab": {
          "base_uri": "https://localhost:8080/"
        },
        "id": "Dzg6hv5WMXTA",
        "outputId": "acca2f22-cbbc-4061-857a-59c4a1fc9583"
      },
      "outputs": [
        {
          "output_type": "stream",
          "name": "stdout",
          "text": [
            "Введите число: 4832843284\n",
            "Введите число: 858486\n",
            "Введите число: 5438593458321324\n",
            "Введите число: 7428347239138\n",
            "Введите число: 76547684701948848221415436\n",
            "Введите число: 579834275923504327583270957432\n",
            "Введите число: 0\n",
            "Сумма введеных чисел: 579910823608211722458131635100\n"
          ]
        }
      ],
      "source": [
        "def main():\n",
        "  sum=0\n",
        "  while True:\n",
        "    number=int(input(\"Введите число: \"))\n",
        "    if number==0:\n",
        "      break\n",
        "    sum+=number\n",
        "  return sum\n",
        "result=main()\n",
        "print(\"Сумма введеных чисел:\",result)"
      ]
    },
    {
      "cell_type": "markdown",
      "source": [
        "Задание 2"
      ],
      "metadata": {
        "id": "PXWS-XXXTtrW"
      }
    },
    {
      "cell_type": "code",
      "source": [
        "def main():\n",
        "  kniga={}\n",
        "  while True:\n",
        "    vhod=input(\"Введите имя и номер через пробел \")\n",
        "    name,phone=vhod.split()\n",
        "    if name=='0' and phone =='0':\n",
        "      break\n",
        "    kniga[name]=phone\n",
        "  return kniga\n",
        "def sortinum(kniga):\n",
        "  return sorted(kniga.values())\n",
        "def sortinam(kniga):\n",
        "  return sorted(kniga.keys())\n",
        "kniga=main()\n",
        "sorted_numbers=sortinum(kniga)\n",
        "sorted_names=sortinam(kniga)\n",
        "print(\"Номера телефонов по возрастанию\",sorted_numbers)\n",
        "print(\"Имена по возрастанию\",sorted_names)"
      ],
      "metadata": {
        "colab": {
          "base_uri": "https://localhost:8080/"
        },
        "id": "kyO8u69hTvLe",
        "outputId": "88e17c72-706f-49df-ed2d-dfa351508aeb"
      },
      "execution_count": 5,
      "outputs": [
        {
          "output_type": "stream",
          "name": "stdout",
          "text": [
            "Введите имя и номер через пробелLaki 777\n",
            "Введите имя и номер через пробелTaker 666\n",
            "Введите имя и номер через пробелKarlson 444\n",
            "Введите имя и номер через пробел0 0\n",
            "Номера телефонов по возрастанию ['444', '666', '777']\n",
            "Имена по возрастанию ['Karlson', 'Laki', 'Taker']\n"
          ]
        }
      ]
    }
  ]
}