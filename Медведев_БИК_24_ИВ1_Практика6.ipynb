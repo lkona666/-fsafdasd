{
  "nbformat": 4,
  "nbformat_minor": 0,
  "metadata": {
    "colab": {
      "provenance": [],
      "authorship_tag": "ABX9TyMwXzX9oCn+zDNJkff/a8Qg",
      "include_colab_link": true
    },
    "kernelspec": {
      "name": "python3",
      "display_name": "Python 3"
    },
    "language_info": {
      "name": "python"
    }
  },
  "cells": [
    {
      "cell_type": "markdown",
      "metadata": {
        "id": "view-in-github",
        "colab_type": "text"
      },
      "source": [
        "<a href=\"https://colab.research.google.com/github/lkona666/-fsafdasd/blob/main/%D0%9C%D0%B5%D0%B4%D0%B2%D0%B5%D0%B4%D0%B5%D0%B2_%D0%91%D0%98%D0%9A_24_%D0%98%D0%921_%D0%9F%D1%80%D0%B0%D0%BA%D1%82%D0%B8%D0%BA%D0%B06.ipynb\" target=\"_parent\"><img src=\"https://colab.research.google.com/assets/colab-badge.svg\" alt=\"Open In Colab\"/></a>"
      ]
    },
    {
      "cell_type": "markdown",
      "source": [
        "Задание 1"
      ],
      "metadata": {
        "id": "8arjKSFXEFMG"
      }
    },
    {
      "cell_type": "code",
      "execution_count": 8,
      "metadata": {
        "colab": {
          "base_uri": "https://localhost:8080/"
        },
        "id": "OZKu_LTd_6XG",
        "outputId": "65f372a3-3ee3-4ff4-9435-1411c13179aa"
      },
      "outputs": [
        {
          "output_type": "stream",
          "name": "stdout",
          "text": [
            "[1, 2, 3, 4, 5, 6, 7, 8, 9, 10]\n",
            "[1, 4, 9, 16, 25, 36, 49, 64, 81, 100]\n",
            "[1, 8, 27, 64, 125, 216, 343, 512, 729, 1000]\n"
          ]
        }
      ],
      "source": [
        "m=[]\n",
        "kvm=[]\n",
        "tvm=[]\n",
        "for i in range(1,11):\n",
        "  m.append(i)\n",
        "  kvm.append(i**2)\n",
        "  tvm.append(i**3)\n",
        "print(m,kvm,tvm, sep='\\n')"
      ]
    },
    {
      "cell_type": "markdown",
      "source": [
        "Задание 2"
      ],
      "metadata": {
        "id": "dRmsMrnqEHXO"
      }
    },
    {
      "cell_type": "code",
      "source": [
        "f=[]\n",
        "a=1\n",
        "while a!=0:\n",
        "  a=int(input())\n",
        "  f.append(a)\n",
        "print(f,min(f),max(f),sorted(f),sorted(f,reverse=True),len(f),f.count('1'),sum(f),sep='\\n')\n",
        "\n"
      ],
      "metadata": {
        "colab": {
          "base_uri": "https://localhost:8080/"
        },
        "id": "6mxIvBRaEIVX",
        "outputId": "93a06ecd-3044-4c8b-a379-d448072acfd3"
      },
      "execution_count": 25,
      "outputs": [
        {
          "output_type": "stream",
          "name": "stdout",
          "text": [
            "1\n",
            "2\n",
            "3\n",
            "0\n",
            "[2, 3, 0]\n",
            "0\n",
            "3\n",
            "[0, 2, 3]\n",
            "[3, 2, 0]\n",
            "3\n",
            "0\n",
            "5\n",
            "0\n"
          ]
        }
      ]
    },
    {
      "cell_type": "markdown",
      "source": [
        "Задание 3"
      ],
      "metadata": {
        "id": "qm-sEjVmLnPO"
      }
    },
    {
      "cell_type": "code",
      "source": [
        "m=[]\n",
        "a=1\n",
        "while a!=0:\n",
        "  a=int(input())\n",
        "  if a%2==0 and a%10==0:\n",
        "    m.append(a)\n",
        "print(m)"
      ],
      "metadata": {
        "colab": {
          "base_uri": "https://localhost:8080/"
        },
        "id": "lqDcu2E8Lo2l",
        "outputId": "74be3023-b36f-4c4f-aac7-d6ce950ed987"
      },
      "execution_count": 33,
      "outputs": [
        {
          "output_type": "stream",
          "name": "stdout",
          "text": [
            "10\n",
            "20\n",
            "30\n",
            "0\n",
            "[10, 20, 30, 0]\n"
          ]
        }
      ]
    }
  ]
}